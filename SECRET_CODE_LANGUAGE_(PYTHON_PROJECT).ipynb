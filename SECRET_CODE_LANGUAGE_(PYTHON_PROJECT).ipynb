{
  "nbformat": 4,
  "nbformat_minor": 0,
  "metadata": {
    "colab": {
      "provenance": [],
      "authorship_tag": "ABX9TyOVyaA4Jdrmm4TNTY0ZjVyq",
      "include_colab_link": true
    },
    "kernelspec": {
      "name": "python3",
      "display_name": "Python 3"
    },
    "language_info": {
      "name": "python"
    }
  },
  "cells": [
    {
      "cell_type": "markdown",
      "metadata": {
        "id": "view-in-github",
        "colab_type": "text"
      },
      "source": [
        "<a href=\"https://colab.research.google.com/github/Amit123456777/SECRET-CODE-LANGUAGE-PYTHON-PROJECT-/blob/main/SECRET_CODE_LANGUAGE_(PYTHON_PROJECT).ipynb\" target=\"_parent\"><img src=\"https://colab.research.google.com/assets/colab-badge.svg\" alt=\"Open In Colab\"/></a>"
      ]
    },
    {
      "cell_type": "code",
      "execution_count": 11,
      "metadata": {
        "colab": {
          "base_uri": "https://localhost:8080/"
        },
        "id": "R_quanF7zjRd",
        "outputId": "6691b099-f122-4096-def7-9b9619eafd01"
      },
      "outputs": [
        {
          "output_type": "stream",
          "name": "stdout",
          "text": [
            "what do you want to do: {'code'} or {'decode'} :code\n",
            "code\n",
            "enter the word to encode : harry\n",
            "arryh\n",
            "CODE_WORD : jeyarryhBpk \n"
          ]
        }
      ],
      "source": [
        "# coding\n",
        "import random\n",
        "import string\n",
        "\n",
        "code = \"code\"\n",
        "decode = \"decode\"\n",
        "\n",
        "a = input(\"what do you want to do: {'code'} or {'decode'} :\")    # input: Harry\n",
        "print(a.lower())                                              #output:  harry\n",
        "if a == code:\n",
        "    word = input(\"enter the word to encode : \")                     # input : harry\n",
        "    if len(word) > 3:\n",
        "        word = word[1:] + word[0]  # it append 1st char at the end  #input: harry = arry + h\n",
        "        print(word)                                                 # output: arryh\n",
        "                                                                   # now append 3 random char at the start and the end\n",
        "        start = ''.join(random.choices(string.ascii_letters, k=3)) # output: abc\n",
        "        end = ''.join(random.choices(string.ascii_letters, k=3))   #output: xyz\n",
        "        word = start + word + end                             # inputs: code_word = abc + arryh + xyz\n",
        "        print(f\"CODE_WORD : {word} \")                             # inputs: abcarryhxyz\n",
        "    else:\n",
        "        rev =word[::-1]  # reverse using str slicing               # input: fo\n",
        "        print(f\"CODE_WORD : {rev} \")                                  # output: of\n",
        "# DECODING\n",
        "elif a == decode:\n",
        "    word = input(\"enter the word to decode : \")                    # input: abcarryhxyz\n",
        "    if len(word) < 3:\n",
        "        rev = word[::-1]                                           #input: fo\n",
        "        print(f\"DECODE_WORD IS : {rev} \")                                                 # output: of\n",
        "    else:\n",
        "        word = word[3:-3]                                          #input: arryh\n",
        "        print(word)                                                               #now append last char at 1st\n",
        "        word = word[-1] + word[:-1]                                # -1 isn't include # input: word = h + arry\n",
        "        print(f\"DECODE_WORD IS : {word} \")                                                # output: harry\n",
        "else:\n",
        "    raise ValueError(\"Invalid input. Please enter either 'code' or 'decode'.\")\n",
        "\n",
        "# NOTE: 1st code the word and use that word to decode.\n",
        "# see README.md file for the logic of the code."
      ]
    },
    {
      "cell_type": "code",
      "source": [],
      "metadata": {
        "id": "uiVA8z2M0BrE"
      },
      "execution_count": null,
      "outputs": []
    }
  ]
}
